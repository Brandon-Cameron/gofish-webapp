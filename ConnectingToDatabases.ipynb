{
 "cells": [
  {
   "cell_type": "code",
   "execution_count": 1,
   "id": "bc62ff4d-db2c-4730-982c-2ff97ade6eff",
   "metadata": {},
   "outputs": [],
   "source": [
    "import DBcm"
   ]
  },
  {
   "cell_type": "code",
   "execution_count": 2,
   "id": "97e4e015-cd2e-4fc5-95a0-177ea0f0b964",
   "metadata": {},
   "outputs": [],
   "source": [
    "creds = {\n",
    "    \"host\": \"localhost\",\n",
    "    \"user\": \"gofishuser\",\n",
    "    \"password\": \"gofishpasswd\",\n",
    "    \"database\": \"gofishDB\",\n",
    "}"
   ]
  },
  {
   "cell_type": "code",
   "execution_count": 3,
   "id": "ed5e6db8-36e0-4b1a-ab95-5f32acd1c069",
   "metadata": {},
   "outputs": [
    {
     "data": {
      "text/plain": [
       "{'host': 'localhost',\n",
       " 'user': 'gofishuser',\n",
       " 'password': 'gofishpasswd',\n",
       " 'database': 'gofishDB'}"
      ]
     },
     "execution_count": 3,
     "metadata": {},
     "output_type": "execute_result"
    }
   ],
   "source": [
    "creds"
   ]
  },
  {
   "cell_type": "code",
   "execution_count": 4,
   "id": "d326da47-79e6-44aa-add9-fd92c201fb33",
   "metadata": {},
   "outputs": [],
   "source": [
    "SQL = \"select * from scores\""
   ]
  },
  {
   "cell_type": "code",
   "execution_count": 5,
   "id": "35d8669f-a5c2-4be9-b6c3-01146af428f7",
   "metadata": {},
   "outputs": [],
   "source": [
    "with DBcm.UseDatabase(creds) as db:\n",
    "    db.execute(SQL)\n",
    "    results = db.fetchall()\n",
    "    "
   ]
  },
  {
   "cell_type": "code",
   "execution_count": 6,
   "id": "b25f91ee-c893-4e0e-bbb2-c22f43f6a366",
   "metadata": {},
   "outputs": [
    {
     "data": {
      "text/plain": [
       "[('Fred', 55), ('Mary', 45), ('Jill', 89), ('Pat', 9)]"
      ]
     },
     "execution_count": 6,
     "metadata": {},
     "output_type": "execute_result"
    }
   ],
   "source": [
    "results"
   ]
  },
  {
   "cell_type": "code",
   "execution_count": null,
   "id": "fc9445fa-6eee-4d53-8478-4484fc5f1a09",
   "metadata": {},
   "outputs": [],
   "source": [
    "for r in results:\n",
    "    print(r)"
   ]
  },
  {
   "cell_type": "code",
   "execution_count": null,
   "id": "8cd03379-1fa3-4c00-a834-b73885d0f9da",
   "metadata": {},
   "outputs": [],
   "source": [
    "type(results)"
   ]
  },
  {
   "cell_type": "code",
   "execution_count": null,
   "id": "b3c7625b-ed34-4e85-a8cd-73b093b58640",
   "metadata": {},
   "outputs": [],
   "source": [
    "type(results[0])"
   ]
  },
  {
   "cell_type": "code",
   "execution_count": null,
   "id": "ee6ebb09-e17a-4a9f-aadd-717bb31ea222",
   "metadata": {},
   "outputs": [],
   "source": [
    "SQL = \"select * from scores order by score desc\"\n",
    "\n",
    "with DBcm.UseDatabase(creds) as db:\n",
    "    db.execute(SQL)\n",
    "    results = db.fetchall()\n",
    "\n",
    "results"
   ]
  },
  {
   "cell_type": "code",
   "execution_count": null,
   "id": "c66bccd3-f09c-4b35-ac9c-4a34d7db3114",
   "metadata": {},
   "outputs": [],
   "source": [
    "scores = [\n",
    "    (\"Jill\", 91),\n",
    "    (\"Jill\", 11),\n",
    "    (\"Jill\", 31),\n",
    "    (\"Harry\", 0),\n",
    "    (\"Harry\", 21),\n",
    "    (\"Pat\", 99),\n",
    "    (\"Pat\", 98),\n",
    "    (\"Pat\", 77),\n",
    "    (\"Pat\", 89),\n",
    "]"
   ]
  },
  {
   "cell_type": "code",
   "execution_count": null,
   "id": "20382a14-ea58-4584-8ba5-ab8076ad1e7f",
   "metadata": {},
   "outputs": [],
   "source": [
    "scores"
   ]
  },
  {
   "cell_type": "code",
   "execution_count": null,
   "id": "93d1c4f9-3bdf-42a5-b81c-dc35cc7c140f",
   "metadata": {},
   "outputs": [],
   "source": [
    "SQL = \"insert into scores (handle, score) values ('Jill', 189)\""
   ]
  },
  {
   "cell_type": "code",
   "execution_count": null,
   "id": "3b3f7f75-4336-4016-96db-4b451f30fe7d",
   "metadata": {},
   "outputs": [],
   "source": [
    "for score in scores:\n",
    "    SQL = f\"insert into scores (handle, score) values {score}\"\n",
    "    print(SQL)"
   ]
  },
  {
   "cell_type": "code",
   "execution_count": null,
   "id": "2d5d935a-1791-4e9f-895e-71e6c897eb1b",
   "metadata": {},
   "outputs": [],
   "source": [
    "with DBcm.UseDatabase(creds) as db:\n",
    "    for score in scores:\n",
    "        SQL = f\"insert into scores (handle, score) values {score}\"   \n",
    "        db.execute(SQL)"
   ]
  },
  {
   "cell_type": "code",
   "execution_count": null,
   "id": "2d1a003e-7716-436e-9168-91406aacc936",
   "metadata": {},
   "outputs": [],
   "source": [
    "with DBcm.UseDatabase(creds) as db:\n",
    "    SQL = \"select * from scores\"\n",
    "    db.execute(SQL)\n",
    "    res = db.fetchall()\n",
    "\n",
    "res"
   ]
  },
  {
   "cell_type": "code",
   "execution_count": null,
   "id": "cc4faa60-9f05-46e8-9185-820bd4aa8789",
   "metadata": {},
   "outputs": [],
   "source": [
    "with DBcm.UseDatabase(creds) as db:\n",
    "    for score in scores:\n",
    "        SQL = \"insert into scores (handle, score) values (?, ?)\"   # placeholder(s)\n",
    "        db.execute(SQL, score)"
   ]
  },
  {
   "cell_type": "code",
   "execution_count": null,
   "id": "ef518ebf-5034-4f28-9759-5df3cbd8fe66",
   "metadata": {},
   "outputs": [],
   "source": [
    "with DBcm.UseDatabase(creds) as db:\n",
    "    SQL = \"select * from scores\"\n",
    "    db.execute(SQL)\n",
    "    res = db.fetchall()\n",
    "\n",
    "res"
   ]
  },
  {
   "cell_type": "code",
   "execution_count": null,
   "id": "bde53308-6d63-4419-b89f-9e36a0955c6f",
   "metadata": {},
   "outputs": [],
   "source": [
    "scores"
   ]
  },
  {
   "cell_type": "code",
   "execution_count": null,
   "id": "c3ef0b34-9e50-4c32-8e01-f9dcbc2186dc",
   "metadata": {},
   "outputs": [],
   "source": [
    "with DBcm.UseDatabase(creds) as db:\n",
    "    SQL = \"insert into scores (handle, score) values (?, ?)\"   # Placeholder(s)\n",
    "    db.executemany(SQL, scores) "
   ]
  },
  {
   "cell_type": "code",
   "execution_count": null,
   "id": "0e176bee-334a-400a-bfb6-8338d2d3e349",
   "metadata": {},
   "outputs": [],
   "source": [
    "with DBcm.UseDatabase(creds) as db:\n",
    "    SQL = \"\"\"\n",
    "        select * from scores\n",
    "        order by score desc\n",
    "    \"\"\"\n",
    "    db.execute(SQL)\n",
    "    res = db.fetchall()\n",
    "\n",
    "res"
   ]
  },
  {
   "cell_type": "code",
   "execution_count": null,
   "id": "6263e61e-1dbb-40c0-a9d5-f6927f37e989",
   "metadata": {},
   "outputs": [],
   "source": [
    "with DBcm.UseDatabase(creds) as db:\n",
    "    SQL = \"\"\"\n",
    "        insert into scores \n",
    "        (handle, score) \n",
    "        values \n",
    "        (?, ?)\n",
    "    \"\"\"\n",
    "    db.executemany(SQL, scores) "
   ]
  },
  {
   "cell_type": "code",
   "execution_count": null,
   "id": "24184f85-0f58-4376-a992-f82273d17129",
   "metadata": {},
   "outputs": [],
   "source": [
    "with DBcm.UseDatabase(creds) as db:\n",
    "    SQL = \"\"\"\n",
    "        select * from scores\n",
    "        order by score desc\n",
    "    \"\"\"\n",
    "    db.execute(SQL)\n",
    "    res = db.fetchall()\n",
    "\n",
    "res"
   ]
  },
  {
   "cell_type": "code",
   "execution_count": null,
   "id": "920091bf-337b-4a08-9053-d4b3dbe6ce70",
   "metadata": {},
   "outputs": [],
   "source": [
    "with DBcm.UseDatabase(creds) as db:\n",
    "    SQL = \"\"\"\n",
    "        select distinct * from scores\n",
    "        order by score desc\n",
    "    \"\"\"\n",
    "    db.execute(SQL)\n",
    "    res = db.fetchall()\n",
    "\n",
    "res"
   ]
  },
  {
   "cell_type": "code",
   "execution_count": null,
   "id": "2c0fc392-49f6-4f3e-a822-69e59ddf3ab6",
   "metadata": {},
   "outputs": [],
   "source": []
  }
 ],
 "metadata": {
  "kernelspec": {
   "display_name": "Python 3 (ipykernel)",
   "language": "python",
   "name": "python3"
  },
  "language_info": {
   "codemirror_mode": {
    "name": "ipython",
    "version": 3
   },
   "file_extension": ".py",
   "mimetype": "text/x-python",
   "name": "python",
   "nbconvert_exporter": "python",
   "pygments_lexer": "ipython3",
   "version": "3.12.6"
  }
 },
 "nbformat": 4,
 "nbformat_minor": 5
}
