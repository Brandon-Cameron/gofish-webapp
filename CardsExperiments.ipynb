{
 "cells": [
  {
   "cell_type": "code",
   "execution_count": 3,
   "id": "4427c683-2a29-4841-b48f-9ec87edcb2d2",
   "metadata": {},
   "outputs": [],
   "source": [
    "import cards"
   ]
  },
  {
   "cell_type": "code",
   "execution_count": 4,
   "id": "601406b4-9efc-43b9-b250-76deaa97f3c8",
   "metadata": {},
   "outputs": [
    {
     "name": "stdout",
     "output_type": "stream",
     "text": [
      "['Counter', '__builtins__', '__cached__', '__doc__', '__file__', '__loader__', '__name__', '__package__', '__spec__', 'build_deck', 'cards_dict', 'faces', 'identify_remove_pairs', 'numbers', 'random', 'suits']\n"
     ]
    }
   ],
   "source": [
    "print(dir(cards))"
   ]
  },
  {
   "cell_type": "code",
   "execution_count": 5,
   "id": "d4f54767-ee52-49a1-a31f-2d1874068e71",
   "metadata": {},
   "outputs": [],
   "source": [
    "deck = cards.build_deck()\n",
    "\n",
    "computer = []\n",
    "player = []\n",
    "player_pairs = []\n",
    "computer_pairs = []\n",
    "\n",
    "for _ in range(7):\n",
    "    computer.append(deck.pop())\n",
    "    player.append(deck.pop())\n",
    "\n",
    "player, pairs = cards.identify_remove_pairs(player)\n",
    "player_pairs.extend(pairs)\n",
    "computer, pairs = cards.identify_remove_pairs(computer)\n",
    "computer_pairs.extend(pairs)"
   ]
  },
  {
   "cell_type": "code",
   "execution_count": 6,
   "id": "d068dbd3-e25b-41e8-b25f-0c392b00f1b3",
   "metadata": {},
   "outputs": [
    {
     "data": {
      "text/plain": [
       "['2 of Hearts', '7 of Diamonds', '3 of Clubs', '10 of Hearts', 'Jack of Clubs']"
      ]
     },
     "execution_count": 6,
     "metadata": {},
     "output_type": "execute_result"
    }
   ],
   "source": [
    "player"
   ]
  },
  {
   "cell_type": "code",
   "execution_count": 7,
   "id": "a2915227-8e92-45f2-81f5-917a39a6479e",
   "metadata": {},
   "outputs": [
    {
     "data": {
      "text/plain": [
       "3"
      ]
     },
     "execution_count": 7,
     "metadata": {},
     "output_type": "execute_result"
    }
   ],
   "source": [
    "len(computer)"
   ]
  },
  {
   "cell_type": "code",
   "execution_count": 8,
   "id": "6666c25b-be22-4888-8ef9-ee280de9819c",
   "metadata": {},
   "outputs": [],
   "source": [
    "import os"
   ]
  },
  {
   "cell_type": "code",
   "execution_count": 9,
   "id": "05be60e5-f2c2-4686-9835-1182aa03ee06",
   "metadata": {},
   "outputs": [
    {
     "name": "stdout",
     "output_type": "stream",
     "text": [
      "['.DS_Store', '10_of_clubs.png', '10_of_diamonds.png', '10_of_hearts.png', '10_of_spades.png', '2_of_clubs.png', '2_of_diamonds.png', '2_of_hearts.png', '2_of_spades.png', '3_of_clubs.png', '3_of_diamonds.png', '3_of_hearts.png', '3_of_spades.png', '4_of_clubs.png', '4_of_diamonds.png', '4_of_hearts.png', '4_of_spades.png', '5_of_clubs.png', '5_of_diamonds.png', '5_of_hearts.png', '5_of_spades.png', '6_of_clubs.png', '6_of_diamonds.png', '6_of_hearts.png', '6_of_spades.png', '7_of_clubs.png', '7_of_diamonds.png', '7_of_hearts.png', '7_of_spades.png', '8_of_clubs.png', '8_of_diamonds.png', '8_of_hearts.png', '8_of_spades.png', '9_of_clubs.png', '9_of_diamonds.png', '9_of_hearts.png', '9_of_spades.png', 'ace_of_clubs.png', 'ace_of_diamonds.png', 'ace_of_hearts.png', 'ace_of_spades.png', 'back.png', 'jack_of_clubs.png', 'jack_of_diamonds.png', 'jack_of_hearts.png', 'jack_of_spades.png', 'king_of_clubs.png', 'king_of_diamonds.png', 'king_of_hearts.png', 'king_of_spades.png', 'queen_of_clubs.png', 'queen_of_diamonds.png', 'queen_of_hearts.png', 'queen_of_spades.png']\n"
     ]
    }
   ],
   "source": [
    "print(os.listdir(\"static/cards\"))"
   ]
  },
  {
   "cell_type": "code",
   "execution_count": 10,
   "id": "9e18f512-f078-44df-bcdd-ebcbe58d5ac2",
   "metadata": {},
   "outputs": [],
   "source": [
    "path = \"static/cards/\""
   ]
  },
  {
   "cell_type": "code",
   "execution_count": 11,
   "id": "724b98be-ef19-4136-b5d8-3abcaae8243e",
   "metadata": {},
   "outputs": [
    {
     "data": {
      "text/plain": [
       "'2 of Hearts'"
      ]
     },
     "execution_count": 11,
     "metadata": {},
     "output_type": "execute_result"
    }
   ],
   "source": [
    "player[0]"
   ]
  },
  {
   "cell_type": "code",
   "execution_count": 12,
   "id": "3f4fe8c5-a969-4380-b9e5-7c0664c6b011",
   "metadata": {},
   "outputs": [
    {
     "data": {
      "text/plain": [
       "'2 of hearts'"
      ]
     },
     "execution_count": 12,
     "metadata": {},
     "output_type": "execute_result"
    }
   ],
   "source": [
    "player[0].lower()"
   ]
  },
  {
   "cell_type": "code",
   "execution_count": 13,
   "id": "0a6617a7-df39-4ee5-bab1-4f095a6ddd0f",
   "metadata": {},
   "outputs": [
    {
     "data": {
      "text/plain": [
       "'2_of_hearts'"
      ]
     },
     "execution_count": 13,
     "metadata": {},
     "output_type": "execute_result"
    }
   ],
   "source": [
    "player[0].lower().replace(\" \",\"_\")"
   ]
  },
  {
   "cell_type": "code",
   "execution_count": 14,
   "id": "87c95bbd-173e-4024-8c38-e044b6760a3f",
   "metadata": {},
   "outputs": [
    {
     "data": {
      "text/plain": [
       "'2_of_hearts.png'"
      ]
     },
     "execution_count": 14,
     "metadata": {},
     "output_type": "execute_result"
    }
   ],
   "source": [
    "player[0].lower().replace(\" \",\"_\")+\".png\""
   ]
  },
  {
   "cell_type": "code",
   "execution_count": 15,
   "id": "3ac3a3a5-7b86-4888-b5da-c643c228b633",
   "metadata": {},
   "outputs": [
    {
     "data": {
      "text/plain": [
       "['2 of Hearts', '7 of Diamonds', '3 of Clubs', '10 of Hearts', 'Jack of Clubs']"
      ]
     },
     "execution_count": 15,
     "metadata": {},
     "output_type": "execute_result"
    }
   ],
   "source": [
    "player"
   ]
  },
  {
   "cell_type": "code",
   "execution_count": 19,
   "id": "6cd514a6-c9fe-4661-962d-5246e8da56ff",
   "metadata": {},
   "outputs": [],
   "source": [
    "images = []\n",
    "\n",
    "for card in player:\n",
    "    images.append(images.append(path + card.lower().replace(\" \",\"_\") + \".png\"))"
   ]
  },
  {
   "cell_type": "code",
   "execution_count": 20,
   "id": "954aa4ed-2015-4f8e-a392-a13f3f567d56",
   "metadata": {},
   "outputs": [
    {
     "data": {
      "text/plain": [
       "['static/cards/2_of_hearts.png',\n",
       " 'static/cards/7_of_diamonds.png',\n",
       " 'static/cards/3_of_clubs.png',\n",
       " 'static/cards/10_of_hearts.png',\n",
       " 'static/cards/jack_of_clubs.png']"
      ]
     },
     "execution_count": 20,
     "metadata": {},
     "output_type": "execute_result"
    }
   ],
   "source": [
    "images"
   ]
  },
  {
   "cell_type": "code",
   "execution_count": null,
   "id": "cf18f8ca-8cc5-4285-980b-540b5f07d4e4",
   "metadata": {},
   "outputs": [],
   "source": [
    "images2 = [images.append(path + card.lower().replace(\" \",\"_\") + \".png\") for card in player]"
   ]
  },
  {
   "cell_type": "code",
   "execution_count": null,
   "id": "caf1fa39-46f9-4f77-a1a3-7531dfa28170",
   "metadata": {},
   "outputs": [],
   "source": []
  }
 ],
 "metadata": {
  "kernelspec": {
   "display_name": "Python 3 (ipykernel)",
   "language": "python",
   "name": "python3"
  },
  "language_info": {
   "codemirror_mode": {
    "name": "ipython",
    "version": 3
   },
   "file_extension": ".py",
   "mimetype": "text/x-python",
   "name": "python",
   "nbconvert_exporter": "python",
   "pygments_lexer": "ipython3",
   "version": "3.12.6"
  }
 },
 "nbformat": 4,
 "nbformat_minor": 5
}
